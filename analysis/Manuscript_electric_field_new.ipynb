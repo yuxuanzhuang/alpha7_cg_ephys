{
 "cells": [
  {
   "cell_type": "code",
   "execution_count": 1,
   "metadata": {},
   "outputs": [
    {
     "name": "stderr",
     "output_type": "stream",
     "text": [
      "Warning: importing 'simtk.openmm' is deprecated.  Import 'openmm' instead.\n"
     ]
    },
    {
     "data": {
      "application/vnd.jupyter.widget-view+json": {
       "model_id": "f02043fb39db4a499fe1384e6e494da6",
       "version_major": 2,
       "version_minor": 0
      },
      "text/plain": []
     },
     "metadata": {},
     "output_type": "display_data"
    }
   ],
   "source": [
    "from joblib import Parallel, delayed\n",
    "import multiprocessing\n",
    "num_cores = multiprocessing.cpu_count()\n",
    "\n",
    "import mdtraj as md\n",
    "import numpy as np\n",
    "import os\n",
    "\n",
    "import MDAnalysis as mda\n",
    "import nglview as nv\n",
    "\n",
    "import pandas as pd\n",
    "\n",
    "import gmxapi as gmx\n",
    "import glob\n",
    "from scipy import stats\n",
    "\n",
    "import itertools"
   ]
  },
  {
   "cell_type": "code",
   "execution_count": 2,
   "metadata": {},
   "outputs": [
    {
     "data": {
      "text/plain": [
       "<Figure size 432x288 with 0 Axes>"
      ]
     },
     "metadata": {},
     "output_type": "display_data"
    }
   ],
   "source": [
    "from manuscript import *"
   ]
  },
  {
   "cell_type": "code",
   "execution_count": 3,
   "metadata": {},
   "outputs": [],
   "source": [
    "sns.set(style=\"ticks\",context='paper',font_scale=2.5)"
   ]
  },
  {
   "cell_type": "markdown",
   "metadata": {},
   "source": [
    "# Analysis"
   ]
  },
  {
   "cell_type": "markdown",
   "metadata": {},
   "source": [
    "# Sodium + Chloride"
   ]
  },
  {
   "cell_type": "code",
   "execution_count": 4,
   "metadata": {},
   "outputs": [],
   "source": [
    "from NACHRA7_annotations import *"
   ]
  },
  {
   "cell_type": "code",
   "execution_count": 5,
   "metadata": {},
   "outputs": [],
   "source": [
    "traj_note_dic = {'traj_note': ['NACHRA7_NOPNU_EPJ_POPC_CAM'],\n",
    "                 'load_location': [\"\".join(i) for i in itertools.product([default_load_location],\n",
    "                                                                ['NACHRA7_NOPNU_EPJ_POPC_CAM'],\n",
    "                                                                ['/EF_200_5CA/',\n",
    "                                                                 '/EF_200_0CA/',\n",
    "                                                                 '/EF_200_150CA/',\n",
    "                                                                 '/EF_200_150CA_0NA'])],\n",
    "                 'skip': [default_skip] * 4,\n",
    "                 'rep': [default_rep] * 4}"
   ]
  },
  {
   "cell_type": "code",
   "execution_count": 6,
   "metadata": {},
   "outputs": [
    {
     "data": {
      "text/plain": [
       "{'traj_note': ['NACHRA7_NOPNU_EPJ_POPC_CAM'],\n",
       " 'load_location': ['/mnt/cephfs/projects/2020100800_alpha7_nachrs/SIMULATIONS/NACHRA7_NOPNU_EPJ_POPC_CAM/EF_200_5CA/',\n",
       "  '/mnt/cephfs/projects/2020100800_alpha7_nachrs/SIMULATIONS/NACHRA7_NOPNU_EPJ_POPC_CAM/EF_200_0CA/',\n",
       "  '/mnt/cephfs/projects/2020100800_alpha7_nachrs/SIMULATIONS/NACHRA7_NOPNU_EPJ_POPC_CAM/EF_200_150CA/',\n",
       "  '/mnt/cephfs/projects/2020100800_alpha7_nachrs/SIMULATIONS/NACHRA7_NOPNU_EPJ_POPC_CAM/EF_200_150CA_0NA'],\n",
       " 'skip': [1, 1, 1, 1],\n",
       " 'rep': [4, 4, 4, 4]}"
      ]
     },
     "execution_count": 6,
     "metadata": {},
     "output_type": "execute_result"
    }
   ],
   "source": [
    "traj_note_dic"
   ]
  },
  {
   "cell_type": "code",
   "execution_count": 7,
   "metadata": {},
   "outputs": [],
   "source": [
    "def create_md_dataframe():    \n",
    "    return pd.DataFrame(columns=list(['MD_name','replicate','frame','traj_time','system','id','ligand','note']))"
   ]
  },
  {
   "cell_type": "code",
   "execution_count": 8,
   "metadata": {},
   "outputs": [
    {
     "name": "stderr",
     "output_type": "stream",
     "text": [
      "<ipython-input-8-6c6d0fcf7383>:30: FutureWarning: The frame.append method is deprecated and will be removed from pandas in a future version. Use pandas.concat instead.\n",
      "  md_data = md_data.append(pd.DataFrame(meta_data[i],columns=list(['MD_name','replicate','frame','traj_time','system','id','ligand','note'])),ignore_index=True)\n",
      "<ipython-input-8-6c6d0fcf7383>:30: FutureWarning: The frame.append method is deprecated and will be removed from pandas in a future version. Use pandas.concat instead.\n",
      "  md_data = md_data.append(pd.DataFrame(meta_data[i],columns=list(['MD_name','replicate','frame','traj_time','system','id','ligand','note'])),ignore_index=True)\n",
      "<ipython-input-8-6c6d0fcf7383>:30: FutureWarning: The frame.append method is deprecated and will be removed from pandas in a future version. Use pandas.concat instead.\n",
      "  md_data = md_data.append(pd.DataFrame(meta_data[i],columns=list(['MD_name','replicate','frame','traj_time','system','id','ligand','note'])),ignore_index=True)\n",
      "<ipython-input-8-6c6d0fcf7383>:30: FutureWarning: The frame.append method is deprecated and will be removed from pandas in a future version. Use pandas.concat instead.\n",
      "  md_data = md_data.append(pd.DataFrame(meta_data[i],columns=list(['MD_name','replicate','frame','traj_time','system','id','ligand','note'])),ignore_index=True)\n",
      "<ipython-input-8-6c6d0fcf7383>:30: FutureWarning: The frame.append method is deprecated and will be removed from pandas in a future version. Use pandas.concat instead.\n",
      "  md_data = md_data.append(pd.DataFrame(meta_data[i],columns=list(['MD_name','replicate','frame','traj_time','system','id','ligand','note'])),ignore_index=True)\n",
      "<ipython-input-8-6c6d0fcf7383>:30: FutureWarning: The frame.append method is deprecated and will be removed from pandas in a future version. Use pandas.concat instead.\n",
      "  md_data = md_data.append(pd.DataFrame(meta_data[i],columns=list(['MD_name','replicate','frame','traj_time','system','id','ligand','note'])),ignore_index=True)\n",
      "<ipython-input-8-6c6d0fcf7383>:30: FutureWarning: The frame.append method is deprecated and will be removed from pandas in a future version. Use pandas.concat instead.\n",
      "  md_data = md_data.append(pd.DataFrame(meta_data[i],columns=list(['MD_name','replicate','frame','traj_time','system','id','ligand','note'])),ignore_index=True)\n",
      "<ipython-input-8-6c6d0fcf7383>:30: FutureWarning: The frame.append method is deprecated and will be removed from pandas in a future version. Use pandas.concat instead.\n",
      "  md_data = md_data.append(pd.DataFrame(meta_data[i],columns=list(['MD_name','replicate','frame','traj_time','system','id','ligand','note'])),ignore_index=True)\n",
      "<ipython-input-8-6c6d0fcf7383>:30: FutureWarning: The frame.append method is deprecated and will be removed from pandas in a future version. Use pandas.concat instead.\n",
      "  md_data = md_data.append(pd.DataFrame(meta_data[i],columns=list(['MD_name','replicate','frame','traj_time','system','id','ligand','note'])),ignore_index=True)\n",
      "<ipython-input-8-6c6d0fcf7383>:30: FutureWarning: The frame.append method is deprecated and will be removed from pandas in a future version. Use pandas.concat instead.\n",
      "  md_data = md_data.append(pd.DataFrame(meta_data[i],columns=list(['MD_name','replicate','frame','traj_time','system','id','ligand','note'])),ignore_index=True)\n",
      "<ipython-input-8-6c6d0fcf7383>:30: FutureWarning: The frame.append method is deprecated and will be removed from pandas in a future version. Use pandas.concat instead.\n",
      "  md_data = md_data.append(pd.DataFrame(meta_data[i],columns=list(['MD_name','replicate','frame','traj_time','system','id','ligand','note'])),ignore_index=True)\n",
      "<ipython-input-8-6c6d0fcf7383>:30: FutureWarning: The frame.append method is deprecated and will be removed from pandas in a future version. Use pandas.concat instead.\n",
      "  md_data = md_data.append(pd.DataFrame(meta_data[i],columns=list(['MD_name','replicate','frame','traj_time','system','id','ligand','note'])),ignore_index=True)\n",
      "<ipython-input-8-6c6d0fcf7383>:30: FutureWarning: The frame.append method is deprecated and will be removed from pandas in a future version. Use pandas.concat instead.\n",
      "  md_data = md_data.append(pd.DataFrame(meta_data[i],columns=list(['MD_name','replicate','frame','traj_time','system','id','ligand','note'])),ignore_index=True)\n",
      "<ipython-input-8-6c6d0fcf7383>:30: FutureWarning: The frame.append method is deprecated and will be removed from pandas in a future version. Use pandas.concat instead.\n",
      "  md_data = md_data.append(pd.DataFrame(meta_data[i],columns=list(['MD_name','replicate','frame','traj_time','system','id','ligand','note'])),ignore_index=True)\n",
      "<ipython-input-8-6c6d0fcf7383>:30: FutureWarning: The frame.append method is deprecated and will be removed from pandas in a future version. Use pandas.concat instead.\n",
      "  md_data = md_data.append(pd.DataFrame(meta_data[i],columns=list(['MD_name','replicate','frame','traj_time','system','id','ligand','note'])),ignore_index=True)\n",
      "<ipython-input-8-6c6d0fcf7383>:30: FutureWarning: The frame.append method is deprecated and will be removed from pandas in a future version. Use pandas.concat instead.\n",
      "  md_data = md_data.append(pd.DataFrame(meta_data[i],columns=list(['MD_name','replicate','frame','traj_time','system','id','ligand','note'])),ignore_index=True)\n"
     ]
    }
   ],
   "source": [
    "def append_metadata(traj_note, rep, ident, system, location, skip = default_skip):\n",
    "    rep_data = []\n",
    "    traj_note_split = traj_note.split('_')\n",
    "    top_location = '/' + \"init.pdb\"\n",
    "    traj_location = '/rep' + rep + '/' + \"ef.xtc\"\n",
    "    traj = mda.Universe(location + top_location,\n",
    "                        location + traj_location)         \n",
    "    md_name = traj_note_split[0]\n",
    "    ligand = traj_note_split[1:-1] ##in this case\n",
    "    timestep = 2\n",
    "    note = traj_note_split[-1]\n",
    "    n_frames = traj.trajectory.n_frames\n",
    "    ts = traj.trajectory.dt\n",
    "    for i in range(n_frames):\n",
    "        rep_data.append([md_name, rep, i,  ts * i, system, ident,ligand,note])\n",
    "\n",
    "    return rep_data\n",
    "    \n",
    "    \n",
    "meta_data = Parallel(n_jobs=num_cores)(delayed(append_metadata)(traj_note = traj_note_dic['traj_note'][0], \n",
    "                                                        rep = str(i%4 + 1),\n",
    "                                                        ident = i,\n",
    "                                                        system = i//4,\n",
    "                                                        location = traj_note_dic['load_location'][i//4],\n",
    "                                                        skip = traj_note_dic['skip'][i//4], \n",
    "                                               )\n",
    "                           for i in range(0, np.sum(traj_note_dic['rep'])))\n",
    "md_data = create_md_dataframe()\n",
    "for i in range(0, np.sum(traj_note_dic['rep'])):\n",
    "    md_data = md_data.append(pd.DataFrame(meta_data[i],columns=list(['MD_name','replicate','frame','traj_time','system','id','ligand','note'])),ignore_index=True)\n",
    "md_data['frame'] =md_data['frame'].apply(int)\n",
    "md_data['traj_time'] =md_data['traj_time'].apply(float)\n",
    "md_data['replicate'] =md_data['replicate'].apply(int)\n",
    "md_data['system'] = md_data['system'].apply(int)"
   ]
  },
  {
   "cell_type": "code",
   "execution_count": 9,
   "metadata": {
    "collapsed": true,
    "jupyter": {
     "outputs_hidden": true
    },
    "tags": []
   },
   "outputs": [],
   "source": [
    "def append_all_ion_info(ion, traj_note, rep, system, location):\n",
    "    def cartesian_to_cylinder(posx, posy, princ_x, princ_y):\n",
    "        return np.sqrt((posx - princ_x) ** 2 + (posy - princ_y) ** 2)\n",
    "    \n",
    "    ion_data = []\n",
    "    traj_note_split = traj_note.split('_')\n",
    "    top_location = location + '/' + \"init.pdb\"\n",
    "    traj_location = location + '/rep' + rep + '/' + \"ef.xtc\"\n",
    "    traj = mda.Universe(top_location,\n",
    "                        traj_location)\n",
    "\n",
    "    if ion == 'CAM':\n",
    "        ion_ag = traj.select_atoms(f'resname {ion} and name D0 or resname CAL')\n",
    "    else:\n",
    "        ion_ag = traj.select_atoms(f'resname {ion}')\n",
    "\n",
    "    princ_center_ch = np.mean(traj.select_atoms('resid 247 and name CA').positions[:5],axis=0)\n",
    "\n",
    "    for ts in traj.trajectory[:md_data[(md_data.system==system)&(md_data.replicate==eval(rep))]['frame'].max()+1]:\n",
    "        position_x = ion_ag.positions.T[0]\n",
    "        position_y = ion_ag.positions.T[1]\n",
    "        position_z = ion_ag.positions.T[2] - princ_center_ch[2]\n",
    "#        position_r = cartesian_to_cylinder(position_x, position_y, princ_center_ch[0], princ_center_ch[1])\n",
    "\n",
    "        ion_data.append(np.asarray([position_x,\n",
    "                                    position_y,\n",
    "                                    position_z,\n",
    "                                    ]).T)\n",
    "    return ion_data\n",
    "\n",
    "\n",
    "for ion in ['SOD', 'CAM', 'CLA']:    \n",
    "    ion_data = Parallel(n_jobs=num_cores)(delayed(append_all_ion_info)(\n",
    "                                                        ion = ion,\n",
    "                                                        traj_note = traj_note_dic['traj_note'][0], \n",
    "                                                        rep = str(i%4 + 1),\n",
    "                                                        system = int(i/4),\n",
    "                                                        location = traj_note_dic['load_location'][i//4])\n",
    "                           for i in range(0, np.sum(traj_note_dic['rep'])))\n",
    "\n",
    "    ion_data_concat = [x for x in ion_data if x != []]\n",
    "    md_data[ion + '_data'] = [item for sublist in ion_data_concat for item in sublist]"
   ]
  },
  {
   "cell_type": "code",
   "execution_count": null,
   "metadata": {
    "collapsed": true,
    "jupyter": {
     "outputs_hidden": true
    },
    "tags": []
   },
   "outputs": [],
   "source": [
    "for (i, ((sys, ind), df)) in enumerate(md_data.groupby(['system','replicate'])):\n",
    "    fig, ax = plt.subplots(figsize=(40,10),gridspec_kw={'wspace': 0.3})\n",
    "\n",
    "    ion_all = df['CAM' + '_data'].apply(lambda x: np.array(x)).to_numpy()\n",
    "    ion_arr_all = np.concatenate(ion_all).reshape(df.shape[0],ion_all[0].shape[0],3).transpose((1,0,2))\n",
    "    for single_ion in ion_arr_all:\n",
    "        z_coord = single_ion.T[2].ravel()\n",
    "        time = df['traj_time'].ravel()\n",
    "        #time = time[np.where(np.logical_and(z_coord>=60, z_coord<=120))]\n",
    "        time = np.ma.masked_where(z_coord<=-80, time)\n",
    "\n",
    "        z_coord = np.ma.masked_where(z_coord<=-80, z_coord)\n",
    "        ax.plot(time,\n",
    "                z_coord)\n",
    "\n",
    "    ax.set_title('CAM rep ' + str(ind))\n",
    "    ax.set_ylim(-25,25)\n",
    "    plt.show()"
   ]
  },
  {
   "cell_type": "code",
   "execution_count": 10,
   "metadata": {},
   "outputs": [],
   "source": [
    "system = ['/EF_200_5CA/',\n",
    "          '/EF_200_0CA/',\n",
    "          '/EF_200_150CA/',\n",
    "          '/EF_200_150CA_0NA']"
   ]
  },
  {
   "cell_type": "code",
   "execution_count": 31,
   "metadata": {},
   "outputs": [
    {
     "name": "stderr",
     "output_type": "stream",
     "text": [
      "/nethome/yzhuang/mdanalysis/package/MDAnalysis/topology/PDBParser.py:340: UserWarning: Unknown element  found for some atoms. These have been given an empty element record. If needed they can be guessed using MDAnalysis.topology.guessers.\n",
      "  warnings.warn(wmsg)\n",
      "/nethome/yzhuang/mdanalysis/package/MDAnalysis/topology/guessers.py:146: UserWarning: Failed to guess the mass for the following atom types: \n",
      "  warnings.warn(\"Failed to guess the mass for the following atom types: {}\".format(atom_type))\n"
     ]
    }
   ],
   "source": [
    "u = mda.Universe('../SIMULATIONS/NACHRA7_NOPNU_EPJ_POPC_CAM/ca.pdb')"
   ]
  },
  {
   "cell_type": "code",
   "execution_count": 32,
   "metadata": {},
   "outputs": [],
   "source": [
    "ions = u.select_atoms('resname CAM').residues"
   ]
  },
  {
   "cell_type": "code",
   "execution_count": 11,
   "metadata": {},
   "outputs": [],
   "source": [
    "threshold_middle = 3\n",
    "threshold_time = 100"
   ]
  },
  {
   "cell_type": "code",
   "execution_count": 13,
   "metadata": {},
   "outputs": [
    {
     "name": "stdout",
     "output_type": "stream",
     "text": [
      "For Sodium,\n",
      "In sys 0 in rep 1 time 411.56 ns, permeation 54 conductance 105.10099832246348 pS\n",
      "In sys 0 in rep 2 time 408.72 ns, permeation 48 conductance 94.07226217262146 pS\n",
      "In sys 0 in rep 3 time 410.96 ns, permeation 65 conductance 126.69516572413778 pS\n",
      "In sys 0 in rep 4 time 409.84 ns, permeation 70 conductance 136.81380994532265 pS\n",
      "In sys 1 in rep 1 time 321.84 ns, permeation 50 conductance 124.44464833455628 pS\n",
      "In sys 1 in rep 2 time 321.36 ns, permeation 57 conductance 142.07879887600416 pS\n",
      "In sys 1 in rep 3 time 320.12 ns, permeation 63 conductance 157.64274235034335 pS\n",
      "In sys 1 in rep 4 time 324.64 ns, permeation 49 conductance 120.90389449110926 pS\n",
      "In sys 2 in rep 1 time 251.16 ns, permeation 9 conductance 28.70372595795049 pS\n",
      "In sys 2 in rep 2 time 250.56 ns, permeation 15 conductance 47.95410155650573 pS\n",
      "In sys 2 in rep 3 time 248.84 ns, permeation 11 conductance 35.40941342388117 pS\n",
      "In sys 2 in rep 4 time 260.44 ns, permeation 10 conductance 30.756616203343256 pS\n",
      "In sys 3 in rep 1 time 178.92 ns, permeation 0 conductance 0.0 pS\n",
      "In sys 3 in rep 2 time 177.48 ns, permeation 0 conductance 0.0 pS\n",
      "In sys 3 in rep 3 time 173.12 ns, permeation 0 conductance 0.0 pS\n",
      "In sys 3 in rep 4 time 193.12 ns, permeation 0 conductance 0.0 pS\n",
      "\n"
     ]
    }
   ],
   "source": [
    "print('For Sodium,')\n",
    "for (i, ((sys, ind), df)) in enumerate(md_data.groupby(['system','replicate'])):\n",
    "#    conduct_list = []\n",
    "    permeation_event = 0\n",
    "    df = md_data[(md_data.system == sys) & (md_data.replicate == ind)]\n",
    "    time = md_data[(md_data.system == sys) & (md_data.replicate == ind)].shape[0] * 40 / 1000\n",
    "    ion_all = df['SOD' + '_data'].apply(lambda x: np.array(x)).to_numpy()\n",
    "    ion_all = df['SOD' + '_data'].apply(lambda x: np.array(x)).to_numpy()\n",
    "    ion_arr_all = np.concatenate(ion_all).reshape(df.shape[0],ion_all[0].shape[0],3).transpose((1,0,2))\n",
    "    for ion_single in ion_arr_all:\n",
    "        ion_z_single = ion_single.T[2]\n",
    "        mask = (ion_z_single >= -threshold_middle) & (ion_z_single <= threshold_middle)\n",
    "        if mask.any():\n",
    "            middle_points = np.argwhere((ion_z_single >= -threshold_middle) & (ion_z_single <= threshold_middle))\n",
    "            for middle_p in middle_points:\n",
    "                try:\n",
    "                    if np.sign(ion_z_single[middle_p-threshold_time]) != np.sign(ion_z_single[middle_p+threshold_time]):\n",
    "                        permeation_event += 1\n",
    "                        break\n",
    "                except:\n",
    "                    pass\n",
    "            \n",
    "    columb_e_conv = 6.242E18\n",
    "    vmemb = 0.2\n",
    "    conductance = permeation_event / columb_e_conv / (time * 1e-9) / vmemb * 1e12\n",
    "    print('In sys', sys, 'in rep', ind, 'time', time, 'ns, permeation', permeation_event, 'conductance', conductance, 'pS')\n",
    "#    conduct_list.append(conductance)\n",
    "#    print('Conductance avg:', np.mean(conductance), '+-', np.var(conductance))\n",
    "print('')"
   ]
  },
  {
   "cell_type": "code",
   "execution_count": 14,
   "metadata": {
    "collapsed": true,
    "jupyter": {
     "outputs_hidden": true
    },
    "tags": []
   },
   "outputs": [
    {
     "name": "stdout",
     "output_type": "stream",
     "text": [
      "For Sodium,\n",
      "/EF_200_5CA/\n",
      "Conductance avg: 115.67055904113634 +- 16.93207793448922 pS\n",
      "\n",
      "/EF_200_0CA/\n",
      "Conductance avg: 136.26752101300326 +- 14.718121278684794 pS\n",
      "\n",
      "/EF_200_150CA/\n",
      "Conductance avg: 35.705964285420166 +- 7.477168532557603 pS\n",
      "\n",
      "/EF_200_150CA_0NA\n",
      "Conductance avg: 0.0 +- 0.0 pS\n",
      "\n"
     ]
    }
   ],
   "source": [
    "print('For Sodium,')\n",
    "\n",
    "for (i, ((sys), sys_df)) in enumerate(md_data.groupby(['system'])):\n",
    "    conduct_list = []\n",
    "\n",
    "    for (j, (ind, df)) in enumerate(sys_df.groupby(['replicate'])):\n",
    "        permeation_event = 0\n",
    "        df = md_data[(md_data.system == sys) & (md_data.replicate == ind)]\n",
    "        time = md_data[(md_data.system == sys) & (md_data.replicate == ind)].shape[0] * 40 / 1000\n",
    "        ion_all = df['SOD' + '_data'].apply(lambda x: np.array(x)).to_numpy()\n",
    "        ion_arr_all = np.concatenate(ion_all).reshape(df.shape[0],ion_all[0].shape[0],3).transpose((1,0,2))\n",
    "        for ion_single in ion_arr_all:\n",
    "            ion_z_single = ion_single.T[2]\n",
    "            mask = (ion_z_single >= -threshold_middle) & (ion_z_single <= threshold_middle)\n",
    "            if mask.any():\n",
    "                middle_points = np.argwhere((ion_z_single >= -threshold_middle) & (ion_z_single <= threshold_middle))\n",
    "                for middle_p in middle_points:\n",
    "                    try:\n",
    "                        if np.sign(ion_z_single[middle_p-threshold_time]) != np.sign(ion_z_single[middle_p+threshold_time]):\n",
    "                            permeation_event += 1\n",
    "                            break\n",
    "                    except:\n",
    "                        pass\n",
    "\n",
    "        columb_e_conv = 6.242E18\n",
    "        vmemb = 0.2\n",
    "        conductance = permeation_event / columb_e_conv / (time * 1e-9) / vmemb * 1e12\n",
    "        #print('In sys', sys, 'in rep', ind, 'time', time, 'ns, permeation', permeation_event, 'conductance', conductance, 'pS')\n",
    "        conduct_list.append(conductance)\n",
    "    print(system[sys])\n",
    "    print('Conductance avg:', np.mean(conduct_list), '+-',  np.std(conduct_list), 'pS')\n",
    "    print('')"
   ]
  },
  {
   "cell_type": "code",
   "execution_count": 15,
   "metadata": {
    "collapsed": true,
    "jupyter": {
     "outputs_hidden": true
    },
    "tags": []
   },
   "outputs": [
    {
     "name": "stdout",
     "output_type": "stream",
     "text": [
      "For Calcium,\n",
      "/EF_200_5CA/\n",
      "Conductance avg: 0.0 +- 0.0 pS\n",
      "\n",
      "/EF_200_0CA/\n",
      "Conductance avg: 0.0 +- 0.0 pS\n",
      "\n",
      "/EF_200_150CA/\n",
      "Conductance avg: 76.09288328417966 +- 8.020807291378908 pS\n",
      "\n",
      "/EF_200_150CA_0NA\n",
      "Conductance avg: 66.35855238592757 +- 12.651591409901288 pS\n",
      "\n"
     ]
    }
   ],
   "source": [
    "print('For Calcium,')\n",
    "for (i, ((sys), sys_df)) in enumerate(md_data.groupby(['system'])):\n",
    "    conduct_list = []\n",
    "\n",
    "    for (j, (ind, df)) in enumerate(sys_df.groupby(['replicate'])):\n",
    "        permeation_event = 0\n",
    "        df = md_data[(md_data.system == sys) & (md_data.replicate == ind)]\n",
    "        time = md_data[(md_data.system == sys) & (md_data.replicate == ind)].shape[0] * 40 / 1000\n",
    "        ion_all = df['CAM' + '_data'].apply(lambda x: np.array(x)).to_numpy()\n",
    "        ion_arr_all = np.concatenate(ion_all).reshape(df.shape[0],ion_all[0].shape[0],3).transpose((1,0,2))\n",
    "        for ion_single in ion_arr_all:\n",
    "            ion_z_single = ion_single.T[2]\n",
    "            mask = (ion_z_single >= -threshold_middle) & (ion_z_single <= threshold_middle)\n",
    "            if mask.any():\n",
    "                middle_points = np.argwhere((ion_z_single >= -threshold_middle) & (ion_z_single <= threshold_middle))\n",
    "                for middle_p in middle_points:\n",
    "                    try:\n",
    "                        if np.sign(ion_z_single[middle_p-threshold_time]) != np.sign(ion_z_single[middle_p+threshold_time]):\n",
    "                            permeation_event += 1\n",
    "                            break\n",
    "                    except:\n",
    "                        pass\n",
    "\n",
    "        columb_e_conv = 6.242E18\n",
    "        vmemb = 0.2\n",
    "        conductance = permeation_event * 2 / columb_e_conv / (time * 1e-9) / vmemb * 1e12\n",
    "        #print('In sys', sys, 'in rep', ind, 'time', time, 'ns, permeation', permeation_event, 'conductance', conductance, 'pS')\n",
    "        conduct_list.append(conductance)\n",
    "    print(system[sys])\n",
    "    print('Conductance avg:', np.mean(conduct_list), '+-',  np.std(conduct_list), 'pS')\n",
    "    print('')"
   ]
  },
  {
   "cell_type": "code",
   "execution_count": null,
   "metadata": {},
   "outputs": [],
   "source": [
    "md_data['direction'] = md_data.system.apply(lambda x: 'up' if x%2 == 0 else 'down')"
   ]
  },
  {
   "cell_type": "code",
   "execution_count": null,
   "metadata": {},
   "outputs": [],
   "source": [
    "for (i, ((sys, ind), df)) in enumerate(md_data.groupby(['system','replicate'])):\n",
    "    permeation_event = 0\n",
    "    df = md_data[(md_data.system == sys) & (md_data.replicate == ind)]\n",
    "    time = md_data[(md_data.system == sys) & (md_data.replicate == ind)].shape[0] * 40 / 1000\n",
    "    ion_all = df['CLA' + '_data'].apply(lambda x: np.array(x)).to_numpy()\n",
    "    ion_arr_all = np.concatenate(ion_all).reshape(df.shape[0],ion_all[0].shape[0],3).transpose((1,0,2))\n",
    "    for ion_single in ion_arr_all:\n",
    "        ion_z_single = ion_single.T[2]\n",
    "        mask = (ion_z_single >= -threshold_middle) & (ion_z_single <= threshold_middle)\n",
    "        if mask.any():\n",
    "            middle_points = np.argwhere((ion_z_single >= -threshold_middle) & (ion_z_single <= threshold_middle))\n",
    "            for middle_p in middle_points:\n",
    "                try:\n",
    "                    if np.sign(ion_z_single[middle_p-threshold_time]) != np.sign(ion_z_single[middle_p+threshold_time]):\n",
    "                        permeation_event += 1\n",
    "                        break\n",
    "                except:\n",
    "                    pass\n",
    "             \n",
    "    columb_e_conv = 6.242E18\n",
    "    vmemb = 0.2\n",
    "    conductance = permeation_event / columb_e_conv / (time * 1e-9) / vmemb * 1e12\n",
    "    print('In sys', sys, 'in rep', ind, 'time', time, 'ns, permeation', permeation_event, 'conductance', conductance, 'pS')\n",
    "print('')"
   ]
  },
  {
   "cell_type": "code",
   "execution_count": null,
   "metadata": {},
   "outputs": [],
   "source": [
    "for (i, ((sys), sys_df)) in enumerate(md_data.groupby(['system'])):\n",
    "    conduct_list = []\n",
    "\n",
    "    for (j, (ind, df)) in enumerate(sys_df.groupby(['replicate'])):\n",
    "        permeation_event = 0\n",
    "        df = md_data[(md_data.system == sys) & (md_data.replicate == ind)]\n",
    "        time = md_data[(md_data.system == sys) & (md_data.replicate == ind)].shape[0] * 40 / 1000\n",
    "        ion_all = df['CLA' + '_data'].apply(lambda x: np.array(x)).to_numpy()\n",
    "        ion_arr_all = np.concatenate(ion_all).reshape(df.shape[0],ion_all[0].shape[0],3).transpose((1,0,2))\n",
    "        for ion_single in ion_arr_all:\n",
    "            ion_z_single = ion_single.T[2]\n",
    "            mask = (ion_z_single >= -threshold_middle) & (ion_z_single <= threshold_middle)\n",
    "            if mask.any():\n",
    "                middle_points = np.argwhere((ion_z_single >= -threshold_middle) & (ion_z_single <= threshold_middle))\n",
    "                for middle_p in middle_points:\n",
    "                    try:\n",
    "                        if np.sign(ion_z_single[middle_p-threshold_time]) != np.sign(ion_z_single[middle_p+threshold_time]):\n",
    "                            permeation_event += 1\n",
    "                            break\n",
    "                    except:\n",
    "                        pass\n",
    "\n",
    "        columb_e_conv = 6.242E18\n",
    "        vmemb = 0.2\n",
    "        conductance = permeation_event / columb_e_conv / (time * 1e-9) / vmemb * 1e12\n",
    "        #print('In sys', sys, 'in rep', ind, 'time', time, 'ns, permeation', permeation_event, 'conductance', conductance, 'pS')\n",
    "        conduct_list.append(conductance)\n",
    "    print(system[sys])\n",
    "\n",
    "    print('Conductance avg:', np.mean(conduct_list), '+-',  np.std(conduct_list), 'pS')\n",
    "    print('')"
   ]
  },
  {
   "cell_type": "code",
   "execution_count": null,
   "metadata": {
    "collapsed": true,
    "jupyter": {
     "outputs_hidden": true
    },
    "tags": []
   },
   "outputs": [],
   "source": [
    "for (i, ((sys), sys_df)) in enumerate(md_data.groupby(['system'])):\n",
    "    conduct_list = []\n",
    "\n",
    "    for (j, (ind, df)) in enumerate(sys_df.groupby(['replicate'])):\n",
    "        permeation_event = 0\n",
    "        df = md_data[(md_data.system == sys) & (md_data.replicate == ind)]\n",
    "        time = md_data[(md_data.system == sys) & (md_data.replicate == ind)].shape[0] * 40 / 1000\n",
    "        ion_all = df['CAL' + '_data'].apply(lambda x: np.array(x)).to_numpy()\n",
    "        ion_arr_all = np.concatenate(ion_all).reshape(df.shape[0],ion_all[0].shape[0],3).transpose((1,0,2))\n",
    "        for ion_single in ion_arr_all:\n",
    "            ion_z_single = ion_single.T[2]\n",
    "            mask = (ion_z_single >= -threshold_middle) & (ion_z_single <= threshold_middle)\n",
    "            if mask.any():\n",
    "                middle_points = np.argwhere((ion_z_single >= -threshold_middle) & (ion_z_single <= threshold_middle))\n",
    "                for middle_p in middle_points:\n",
    "                    try:\n",
    "                        if np.sign(ion_z_single[middle_p-threshold_time]) != np.sign(ion_z_single[middle_p+threshold_time]):\n",
    "                            permeation_event += 1\n",
    "                            break\n",
    "                    except:\n",
    "                        pass\n",
    "\n",
    "        columb_e_conv = 6.242E18\n",
    "        vmemb = 0.2\n",
    "        conductance = permeation_event / columb_e_conv / (time * 1e-9) / vmemb * 1e12\n",
    "        #print('In sys', sys, 'in rep', ind, 'time', time, 'ns, permeation', permeation_event, 'conductance', conductance, 'pS')\n",
    "        conduct_list.append(conductance)\n",
    "    print(system[sys])\n",
    "\n",
    "    print('Conductance avg:', np.mean(conduct_list), '+-',  np.std(conduct_list), 'pS')\n",
    "    print('')"
   ]
  },
  {
   "cell_type": "code",
   "execution_count": null,
   "metadata": {
    "collapsed": true,
    "jupyter": {
     "outputs_hidden": true
    },
    "tags": []
   },
   "outputs": [],
   "source": [
    "for (i, ((sys, ind), df)) in enumerate(md_data.groupby(['system','replicate'])):\n",
    "    fig, ax = plt.subplots(figsize=(40,10),gridspec_kw={'wspace': 0.3})\n",
    "\n",
    "    ion_all = df['SOD' + '_data'].apply(lambda x: np.array(x)).to_numpy()\n",
    "    ion_arr_all = np.concatenate(ion_all).reshape(df.shape[0],ion_all[0].shape[0],3).transpose((1,0,2))\n",
    "    for single_ion in ion_arr_all:\n",
    "        z_coord = single_ion.T[2].ravel()\n",
    "        time = df['traj_time'].ravel()\n",
    "        #time = time[np.where(np.logical_and(z_coord>=60, z_coord<=120))]\n",
    "        time = np.ma.masked_where(z_coord<=-80, time)\n",
    "\n",
    "        z_coord = np.ma.masked_where(z_coord<=-80, z_coord)\n",
    "        ax.plot(time,\n",
    "                z_coord)\n",
    "\n",
    "    ax.set_title('SOD rep ' + str(ind))\n",
    "    ax.set_ylim(-55,55)\n",
    "    plt.show()"
   ]
  },
  {
   "cell_type": "code",
   "execution_count": 51,
   "metadata": {},
   "outputs": [],
   "source": [
    "md_data.to_pickle('ef_new.pickle')"
   ]
  },
  {
   "cell_type": "code",
   "execution_count": null,
   "metadata": {},
   "outputs": [],
   "source": [
    "md_data = pd.read_pickle('ef.pickle')"
   ]
  },
  {
   "cell_type": "code",
   "execution_count": 16,
   "metadata": {},
   "outputs": [],
   "source": [
    "def create_md_dataframe():    \n",
    "    return pd.DataFrame(columns=list(['MD_name','replicate','traj_time','system','id','ligand','note']))"
   ]
  },
  {
   "cell_type": "code",
   "execution_count": 17,
   "metadata": {},
   "outputs": [],
   "source": [
    "def append_metadata(traj_note, rep, ident, system, location, skip = default_skip):\n",
    "    rep_data = []\n",
    "    traj_note_split = traj_note.split('_')\n",
    "    top_location = '/' + \"init.pdb\"\n",
    "    traj_location = '/rep' + rep + '/' + \"ef.xtc\"\n",
    "    traj = mda.Universe(location + top_location,\n",
    "                        location + traj_location)         \n",
    "    md_name = traj_note_split[0]\n",
    "    if location.split('/')[-1] == '': \n",
    "        ligand = location.split('/')[-3]\n",
    "        note = location.split('/')[-2]\n",
    "    else:\n",
    "        ligand = location.split('/')[-2]\n",
    "        note = location.split('/')[-1]        \n",
    "\n",
    "    timestep = 2\n",
    "    n_frames = traj.trajectory.n_frames\n",
    "    ts = traj.trajectory.dt\n",
    "    rep_data.append([md_name, rep, ts * n_frames, system, ident,ligand,note])\n",
    "\n",
    "    return rep_data\n",
    "    \n",
    "    \n",
    "meta_data = Parallel(n_jobs=num_cores)(delayed(append_metadata)(traj_note = traj_note_dic['traj_note'][0], \n",
    "                                                        rep = str(i%4 + 1),\n",
    "                                                        ident = i,\n",
    "                                                        system = i//4,\n",
    "                                                        location = traj_note_dic['load_location'][i//4],\n",
    "                                                       skip = traj_note_dic['skip'][i//4], \n",
    "                                               )\n",
    "                           for i in range(0, np.sum(traj_note_dic['rep'])))"
   ]
  },
  {
   "cell_type": "code",
   "execution_count": 19,
   "metadata": {},
   "outputs": [],
   "source": [
    "ef_data = create_md_dataframe()\n",
    "for i in range(0,np.sum(traj_note_dic['rep'])):\n",
    "    ef_data = pd.concat([ef_data,\n",
    "    pd.DataFrame(meta_data[i],columns=list(ef_data.columns))],ignore_index=True)\n",
    "ef_data['traj_time'] = ef_data['traj_time'].apply(float)\n",
    "ef_data['replicate'] = ef_data['replicate'].apply(int)\n",
    "ef_data['system'] = ef_data['system'].apply(int)"
   ]
  },
  {
   "cell_type": "code",
   "execution_count": 20,
   "metadata": {},
   "outputs": [],
   "source": [
    "threshold_middle = 3\n",
    "threshold_time = 100"
   ]
  },
  {
   "cell_type": "code",
   "execution_count": 21,
   "metadata": {},
   "outputs": [],
   "source": [
    "conductance_list = []\n",
    "for (i, ((sys, ind), df)) in enumerate(md_data.groupby(['system','replicate'])):\n",
    "#    conduct_list = []\n",
    "    permeation_event = 0\n",
    "    df = md_data[(md_data.system == sys) & (md_data.replicate == ind)]\n",
    "    time = md_data[(md_data.system == sys) & (md_data.replicate == ind)].shape[0] * 40 / 1000\n",
    "    ion_all = df['SOD' + '_data'].apply(lambda x: np.array(x)).to_numpy()\n",
    "    ion_arr_all = np.concatenate(ion_all).reshape(df.shape[0],ion_all[0].shape[0],3).transpose((1,0,2))\n",
    "    for ion_single in ion_arr_all:\n",
    "        ion_z_single = ion_single.T[2]\n",
    "        mask = (ion_z_single >= -threshold_middle) & (ion_z_single <= threshold_middle)\n",
    "        if mask.any():\n",
    "            middle_points = np.argwhere((ion_z_single >= -threshold_middle) & (ion_z_single <= threshold_middle))\n",
    "            for middle_p in middle_points:\n",
    "                try:\n",
    "                    if np.sign(ion_z_single[middle_p-threshold_time]) != np.sign(ion_z_single[middle_p+threshold_time]):\n",
    "                        permeation_event += 1\n",
    "                        break\n",
    "                except:\n",
    "                    pass\n",
    "            \n",
    "    columb_e_conv = 6.242E18\n",
    "    vmemb = 0.2\n",
    "    conductance = permeation_event / columb_e_conv / (time * 1e-9) / vmemb * 1e12\n",
    "    conductance_list.append(conductance)\n",
    "ef_data['conductance_sod'] = conductance_list"
   ]
  },
  {
   "cell_type": "code",
   "execution_count": 22,
   "metadata": {},
   "outputs": [],
   "source": [
    "conductance_list = []\n",
    "for (i, ((sys, ind), df)) in enumerate(md_data.groupby(['system','replicate'])):\n",
    "#    conduct_list = []\n",
    "    permeation_event = 0\n",
    "    df = md_data[(md_data.system == sys) & (md_data.replicate == ind)]\n",
    "    time = md_data[(md_data.system == sys) & (md_data.replicate == ind)].shape[0] * 40 / 1000\n",
    "    ion_all = df['CLA' + '_data'].apply(lambda x: np.array(x)).to_numpy()\n",
    "    ion_arr_all = np.concatenate(ion_all).reshape(df.shape[0],ion_all[0].shape[0],3).transpose((1,0,2))\n",
    "    for ion_single in ion_arr_all:\n",
    "        ion_z_single = ion_single.T[2]\n",
    "        mask = (ion_z_single >= -threshold_middle) & (ion_z_single <= threshold_middle)\n",
    "        if mask.any():\n",
    "            middle_points = np.argwhere((ion_z_single >= -threshold_middle) & (ion_z_single <= threshold_middle))\n",
    "            for middle_p in middle_points:\n",
    "                try:\n",
    "                    if np.sign(ion_z_single[middle_p-threshold_time]) != np.sign(ion_z_single[middle_p+threshold_time]):\n",
    "                        permeation_event += 1\n",
    "                        break\n",
    "                except:\n",
    "                    pass\n",
    "            \n",
    "    columb_e_conv = 6.242E18\n",
    "    vmemb = 0.2\n",
    "    conductance = permeation_event / columb_e_conv / (time * 1e-9) / vmemb * 1e12\n",
    "    conductance_list.append(conductance)\n",
    "ef_data['conductance_cla'] = conductance_list"
   ]
  },
  {
   "cell_type": "code",
   "execution_count": 23,
   "metadata": {},
   "outputs": [],
   "source": [
    "conductance_list = []\n",
    "for (i, ((sys, ind), df)) in enumerate(md_data.groupby(['system','replicate'])):\n",
    "#    conduct_list = []\n",
    "    permeation_event = 0\n",
    "    df = md_data[(md_data.system == sys) & (md_data.replicate == ind)]\n",
    "    time = md_data[(md_data.system == sys) & (md_data.replicate == ind)].shape[0] * 40 / 1000\n",
    "    ion_all = df['CAM' + '_data'].apply(lambda x: np.array(x)).to_numpy()\n",
    "    ion_arr_all = np.concatenate(ion_all).reshape(df.shape[0],ion_all[0].shape[0],3).transpose((1,0,2))\n",
    "    for ion_single in ion_arr_all:\n",
    "        ion_z_single = ion_single.T[2]\n",
    "        mask = (ion_z_single >= -threshold_middle) & (ion_z_single <= threshold_middle)\n",
    "        if mask.any():\n",
    "            middle_points = np.argwhere((ion_z_single >= -threshold_middle) & (ion_z_single <= threshold_middle))\n",
    "            for middle_p in middle_points:\n",
    "                try:\n",
    "                    if np.sign(ion_z_single[middle_p-threshold_time]) != np.sign(ion_z_single[middle_p+threshold_time]):\n",
    "                        permeation_event += 1\n",
    "                        break\n",
    "                except:\n",
    "                    pass\n",
    "            \n",
    "    columb_e_conv = 6.242E18\n",
    "    vmemb = 0.2\n",
    "    conductance = permeation_event * 2 / columb_e_conv / (time * 1e-9) / vmemb * 1e12\n",
    "    conductance_list.append(conductance)\n",
    "ef_data['conductance_cal'] = conductance_list"
   ]
  },
  {
   "cell_type": "code",
   "execution_count": 24,
   "metadata": {},
   "outputs": [],
   "source": [
    "ef_m = {'EF_200_0CA': '150 mM Na',\n",
    "        'EF_200_150CA': '150 mM Na + 150 mM Ca',\n",
    "        'EF_200_150CA_0NA': '150 mM Ca',\n",
    "        'EF_200_5CA': '150 mM Na + # 5 Ca'}"
   ]
  },
  {
   "cell_type": "code",
   "execution_count": 26,
   "metadata": {
    "tags": []
   },
   "outputs": [
    {
     "name": "stdout",
     "output_type": "stream",
     "text": [
      "For Sodium,\n",
      "150 mM Na: 136.3 +- 17.0 pS\n",
      "150 mM Na + 150 mM Ca: 35.7 +- 8.6 pS\n",
      "150 mM Ca: 0.0 +- 0.0 pS\n",
      "150 mM Na + # 5 Ca: 115.7 +- 19.6 pS\n"
     ]
    }
   ],
   "source": [
    "print('For Sodium,')\n",
    "for sys1, ef_data_sys in ef_data.groupby('ligand', sort=False):\n",
    "    for sys2, conduct_d in ef_data_sys.groupby('note'):\n",
    "        print(f\"{ef_m[sys2]}: {conduct_d.conductance_sod.mean():0.1f} +- {conduct_d.conductance_sod.std():0.1f} pS\")"
   ]
  },
  {
   "cell_type": "code",
   "execution_count": 27,
   "metadata": {
    "tags": []
   },
   "outputs": [
    {
     "name": "stdout",
     "output_type": "stream",
     "text": [
      "For Calcium,\n",
      "150 mM Na: 0.0 +- 0.0 pS\n",
      "150 mM Na + 150 mM Ca: 76.1 +- 9.3 pS\n",
      "150 mM Ca: 66.4 +- 14.6 pS\n",
      "150 mM Na + # 5 Ca: 0.0 +- 0.0 pS\n"
     ]
    }
   ],
   "source": [
    "print('For Calcium,')\n",
    "for sys1, ef_data_sys in ef_data.groupby('ligand', sort=False):\n",
    "    for sys2, conduct_d in ef_data_sys.groupby('note'):\n",
    "        print(f\"{ef_m[sys2]}: {conduct_d.conductance_cal.mean():0.1f} +- {conduct_d.conductance_cal.std():0.1f} pS\")"
   ]
  },
  {
   "cell_type": "code",
   "execution_count": 28,
   "metadata": {
    "tags": []
   },
   "outputs": [
    {
     "name": "stdout",
     "output_type": "stream",
     "text": [
      "For Chloride,\n",
      "150 mM Na: 5.6 +- 4.2 pS\n",
      "150 mM Na + 150 mM Ca: 19.0 +- 13.8 pS\n",
      "150 mM Ca: 9.9 +- 1.7 pS\n",
      "150 mM Na + # 5 Ca: 4.9 +- 3.4 pS\n"
     ]
    }
   ],
   "source": [
    "print('For Chloride,')\n",
    "for sys1, ef_data_sys in ef_data.groupby('ligand', sort=False):\n",
    "    for sys2, conduct_d in ef_data_sys.groupby('note'):\n",
    "        print(f\"{ef_m[sys2]}: {conduct_d.conductance_cla.mean():0.1f} +- {conduct_d.conductance_cla.std():0.1f} pS\")"
   ]
  },
  {
   "cell_type": "code",
   "execution_count": 36,
   "metadata": {
    "tags": []
   },
   "outputs": [
    {
     "data": {
      "image/png": "[encoded data removed]",
      "text/plain": [
       "<Figure size 360x720 with 1 Axes>"
      ]
     },
     "metadata": {},
     "output_type": "display_data"
    }
   ],
   "source": [
    "from matplotlib.patches import Patch\n",
    "fig, ax = plt.subplots(figsize=(5,10))\n",
    "\n",
    "new_sys = ['EF_200_150CA']\n",
    "l_box = sns.boxplot(x=ef_data['note'].to_numpy(),\n",
    "            y=ef_data['conductance_sod'].to_numpy(),\n",
    "            ax=ax,\n",
    "            palette=['#6e6d59'],\n",
    "            dodge=True,\n",
    "            width=0.4,\n",
    "            linewidth=2.5,\n",
    "            order=new_sys)\n",
    "sns.swarmplot(x=ef_data['note'].to_numpy(),\n",
    "              y=ef_data['conductance_sod'].to_numpy(),\n",
    "              size=10,\n",
    "              ax=ax,\n",
    "              palette=['black'],\n",
    "              dodge=True,\n",
    "              order=new_sys)\n",
    "\n",
    "l_box = sns.boxplot(x=ef_data['note'].to_numpy(),\n",
    "            y=ef_data['conductance_cal'].to_numpy(),\n",
    "            ax=ax,\n",
    "            palette=['#f7a072'],\n",
    "            dodge=True,\n",
    "            width=0.4,\n",
    "            linewidth=2.5,\n",
    "            order=new_sys)\n",
    "sns.swarmplot(x=ef_data['note'].to_numpy(),\n",
    "              y=ef_data['conductance_cal'].to_numpy(),\n",
    "              size=10,\n",
    "              ax=ax,\n",
    "              palette=['#e79072'],\n",
    "              dodge=True,\n",
    "              order=new_sys)\n",
    "\n",
    "\n",
    "ax.set_ylabel('Absolute Conductance (pS)',fontsize=30)\n",
    "ax.set_xticklabels([ef_m[lab] for lab in new_sys])\n",
    "\n",
    "handles = [\n",
    "    Patch(facecolor=color, label=label) \n",
    "    for label, color in zip([r'200 mV $Na^{+}$', r'200 mV $Ca^{2+}$'], ['#6e6d59','#f7a072'])\n",
    "]\n",
    "\n",
    "ax.legend(handles=handles)\n",
    "\n",
    "#l_box.artists[0].set_facecolor('#C78E52')\n",
    "#l_box.artists[1].set_facecolor('#C78E52')\n",
    "\n",
    "set_axis_boarder(ax)\n",
    "plt.savefig('Figures/figure_ef_new.pdf',bbox_inches = 'tight', pad_inches=0.1, transparent=False)"
   ]
  },
  {
   "cell_type": "code",
   "execution_count": null,
   "metadata": {},
   "outputs": [],
   "source": [
    "ef_data.to_pickle('ef_conductance.pickle')"
   ]
  },
  {
   "cell_type": "code",
   "execution_count": null,
   "metadata": {},
   "outputs": [],
   "source": [
    "ef_data = pd.read_pickle('ef_conductance.pickle')"
   ]
  },
  {
   "cell_type": "code",
   "execution_count": null,
   "metadata": {},
   "outputs": [],
   "source": [
    "for system, df in ef_data.groupby(['system']):\n",
    "    \n",
    "    fig, ax = plt.subplots()\n",
    "    for rep in range(4):\n",
    "        pot_data = df['potential'].iloc[rep].potential\n",
    "        ax.plot(\n",
    "                pot_data['coord'],\n",
    "                pot_data['potential'],\n",
    "                linewidth=4,\n",
    "                color=cmap_open(0),)\n",
    "                #label=r'$\\Delta$q ' + str(row['imbalance']))\n"
   ]
  },
  {
   "cell_type": "code",
   "execution_count": null,
   "metadata": {},
   "outputs": [],
   "source": []
  }
 ],
 "metadata": {
  "kernelspec": {
   "display_name": "mda_py38",
   "language": "python",
   "name": "jupyter"
  },
  "language_info": {
   "codemirror_mode": {
    "name": "ipython",
    "version": 3
   },
   "file_extension": ".py",
   "mimetype": "text/x-python",
   "name": "python",
   "nbconvert_exporter": "python",
   "pygments_lexer": "ipython3",
   "version": "3.8.0"
  }
 },
 "nbformat": 4,
 "nbformat_minor": 4
}
